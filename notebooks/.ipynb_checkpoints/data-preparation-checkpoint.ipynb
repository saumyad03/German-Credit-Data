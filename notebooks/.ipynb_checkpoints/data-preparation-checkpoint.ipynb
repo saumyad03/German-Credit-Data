{
 "cells": [
  {
   "cell_type": "code",
   "execution_count": 38,
   "id": "836b6fdd-079b-4a4a-b7f1-9084d1de76ed",
   "metadata": {},
   "outputs": [
    {
     "ename": "ModuleNotFoundError",
     "evalue": "No module named 'matplotlib'",
     "output_type": "error",
     "traceback": [
      "\u001b[0;31m---------------------------------------------------------------------------\u001b[0m",
      "\u001b[0;31mModuleNotFoundError\u001b[0m                       Traceback (most recent call last)",
      "Cell \u001b[0;32mIn[38], line 4\u001b[0m\n\u001b[1;32m      2\u001b[0m \u001b[38;5;28;01mimport\u001b[39;00m \u001b[38;5;21;01mpandas\u001b[39;00m \u001b[38;5;28;01mas\u001b[39;00m \u001b[38;5;21;01mpd\u001b[39;00m\n\u001b[1;32m      3\u001b[0m \u001b[38;5;28;01mimport\u001b[39;00m \u001b[38;5;21;01mos\u001b[39;00m\n\u001b[0;32m----> 4\u001b[0m \u001b[38;5;28;01mimport\u001b[39;00m \u001b[38;5;21;01mmatplotlib\u001b[39;00m\u001b[38;5;21;01m.\u001b[39;00m\u001b[38;5;21;01mpyplot\u001b[39;00m \u001b[38;5;28;01mas\u001b[39;00m \u001b[38;5;21;01mplt\u001b[39;00m\n\u001b[1;32m      6\u001b[0m \u001b[38;5;28;01mimport\u001b[39;00m \u001b[38;5;21;01mseaborn\u001b[39;00m \u001b[38;5;28;01mas\u001b[39;00m \u001b[38;5;21;01msns\u001b[39;00m\n",
      "\u001b[0;31mModuleNotFoundError\u001b[0m: No module named 'matplotlib'"
     ]
    }
   ],
   "source": [
    "from ucimlrepo import fetch_ucirepo \n",
    "import pandas as pd\n",
    "import os\n",
    "import seaborn as sns\n",
    "import matplotlib.pyplot as plt"
   ]
  },
  {
   "cell_type": "markdown",
   "id": "3550aa46-00f0-4482-a0a1-4748aa0d5811",
   "metadata": {},
   "source": [
    "# Data Collection"
   ]
  },
  {
   "cell_type": "code",
   "execution_count": 2,
   "id": "a8fe84d2-8859-428b-967f-b3566e0b3f1c",
   "metadata": {},
   "outputs": [],
   "source": [
    "# fetch dataset\n",
    "data = fetch_ucirepo(id=144)\n",
    "\n",
    "# extract data and labels \n",
    "X = data.data.features\n",
    "y = data.data.targets\n",
    "\n",
    "# extract other important information\n",
    "metadata = data.metadata\n",
    "variables = data.variables"
   ]
  },
  {
   "cell_type": "code",
   "execution_count": 3,
   "id": "0ebf2078-ab93-4a2c-a204-f94cde242dad",
   "metadata": {},
   "outputs": [],
   "source": [
    "# save data locally if not already done\n",
    "df = pd.concat([X, y], axis=1)\n",
    "if not os.path.exists(\"../data/raw_data.csv\"):\n",
    "    df.to_csv('../data/raw_data.csv', index=False)"
   ]
  },
  {
   "cell_type": "markdown",
   "id": "f94bda73-620b-40b5-9387-0bb85491f249",
   "metadata": {},
   "source": [
    "# Data Preprocessing"
   ]
  },
  {
   "cell_type": "markdown",
   "id": "82cad646-8639-4bc8-aabe-c9a088d8c6ee",
   "metadata": {},
   "source": [
    "We are working with the following attributes:"
   ]
  },
  {
   "cell_type": "code",
   "execution_count": 13,
   "id": "fb3616f4-fb6e-4d67-8503-b2d158fceb06",
   "metadata": {},
   "outputs": [
    {
     "name": "stdout",
     "output_type": "stream",
     "text": [
      "                                          description   units         type\n",
      "0                 Status of existing checking account    None  Categorical\n",
      "1                                            Duration  months      Integer\n",
      "2                                      Credit history    None  Categorical\n",
      "3                                             Purpose    None  Categorical\n",
      "4                                       Credit amount    None      Integer\n",
      "5                               Savings account/bonds    None  Categorical\n",
      "6                            Present employment since    None  Categorical\n",
      "7   Installment rate in percentage of disposable i...    None      Integer\n",
      "8                             Personal status and sex    None  Categorical\n",
      "9                          Other debtors / guarantors    None  Categorical\n",
      "10                            Present residence since    None      Integer\n",
      "11                                           Property    None  Categorical\n",
      "12                                                Age   years      Integer\n",
      "13                            Other installment plans    None  Categorical\n",
      "14                                            Housing    None  Categorical\n",
      "15            Number of existing credits at this bank    None      Integer\n",
      "16                                                Job    None  Categorical\n",
      "17  Number of people being liable to provide maint...    None      Integer\n",
      "18                                          Telephone    None       Binary\n",
      "19                                     foreign worker    None       Binary\n",
      "20                                  1 = Good, 2 = Bad    None       Binary\n"
     ]
    }
   ],
   "source": [
    "print(variables[[\"description\", \"units\", \"type\"]])"
   ]
  },
  {
   "cell_type": "markdown",
   "id": "22a1968c-9989-48a9-aef1-46fa83de3c6f",
   "metadata": {},
   "source": [
    "This provides valuable information about what the various attributes of the dataset represent and will help us determine how we will encode the various categorical variables:"
   ]
  },
  {
   "cell_type": "code",
   "execution_count": 27,
   "id": "285c79b4-64d7-4750-853e-67485391350c",
   "metadata": {},
   "outputs": [
    {
     "name": "stdout",
     "output_type": "stream",
     "text": [
      "Attribute 1:  (qualitative)      \n",
      " Status of existing checking account\n",
      "             A11 :      ... <    0 DM\n",
      "\t       A12 : 0 <= ... <  200 DM\n",
      "\t       A13 :      ... >= 200 DM / salary assignments for at least 1 year\n",
      "               A14 : no checking account\n",
      "\n",
      "Attribute 2:  (numerical)\n",
      "\t      Duration in month\n",
      "\n",
      "Attribute 3:  (qualitative)\n",
      "\t      Credit history\n",
      "\t      A30 : no credits taken/ all credits paid back duly\n",
      "              A31 : all credits at this bank paid back duly\n",
      "\t      A32 : existing credits paid back duly till now\n",
      "              A33 : delay in paying off in the past\n",
      "\t      A34 : critical account/  other credits existing (not at this bank)\n",
      "\n",
      "Attribute 4:  (qualitative)\n",
      "\t      Purpose\n",
      "\t      A40 : car (new)\n",
      "\t      A41 : car (used)\n",
      "\t      A42 : furniture/equipment\n",
      "\t      A43 : radio/television\n",
      "\t      A44 : domestic appliances\n",
      "\t      A45 : repairs\n",
      "\t      A46 : education\n",
      "\t      A47 : (vacation - does not exist?)\n",
      "\t      A48 : retraining\n",
      "\t      A49 : business\n",
      "\t      A410 : others\n",
      "\n",
      "Attribute 5:  (numerical)\n",
      "\t      Credit amount\n",
      "\n",
      "Attibute 6:  (qualitative)\n",
      "\t      Savings account/bonds\n",
      "\t      A61 :          ... <  100 DM\n",
      "\t      A62 :   100 <= ... <  500 DM\n",
      "\t      A63 :   500 <= ... < 1000 DM\n",
      "\t      A64 :          .. >= 1000 DM\n",
      "              A65 :   unknown/ no savings account\n",
      "\n",
      "Attribute 7:  (qualitative)\n",
      "\t      Present employment since\n",
      "\t      A71 : unemployed\n",
      "\t      A72 :       ... < 1 year\n",
      "\t      A73 : 1  <= ... < 4 years  \n",
      "\t      A74 : 4  <= ... < 7 years\n",
      "\t      A75 :       .. >= 7 years\n",
      "\n",
      "Attribute 8:  (numerical)\n",
      "\t      Installment rate in percentage of disposable income\n",
      "\n",
      "Attribute 9:  (qualitative)\n",
      "\t      Personal status and sex\n",
      "\t      A91 : male   : divorced/separated\n",
      "\t      A92 : female : divorced/separated/married\n",
      "              A93 : male   : single\n",
      "\t      A94 : male   : married/widowed\n",
      "\t      A95 : female : single\n",
      "\n",
      "Attribute 10: (qualitative)\n",
      "\t      Other debtors / guarantors\n",
      "\t      A101 : none\n",
      "\t      A102 : co-applicant\n",
      "\t      A103 : guarantor\n",
      "\n",
      "Attribute 11: (numerical)\n",
      "\t      Present residence since\n",
      "\n",
      "Attribute 12: (qualitative)\n",
      "\t      Property\n",
      "\t      A121 : real estate\n",
      "\t      A122 : if not A121 : building society savings agreement/ life insurance\n",
      "              A123 : if not A121/A122 : car or other, not in attribute 6\n",
      "\t      A124 : unknown / no property\n",
      "\n",
      "Attribute 13: (numerical)\n",
      "\t      Age in years\n",
      "\n",
      "Attribute 14: (qualitative)\n",
      "\t      Other installment plans \n",
      "\t      A141 : bank\n",
      "\t      A142 : stores\n",
      "\t      A143 : none\n",
      "\n",
      "Attribute 15: (qualitative)\n",
      "\t      Housing\n",
      "\t      A151 : rent\n",
      "\t      A152 : own\n",
      "\t      A153 : for free\n",
      "\n",
      "Attribute 16: (numerical)\n",
      "              Number of existing credits at this bank\n",
      "\n",
      "Attribute 17: (qualitative)\n",
      "\t      Job\n",
      "\t      A171 : unemployed/ unskilled  - non-resident\n",
      "\t      A172 : unskilled - resident\n",
      "\t      A173 : skilled employee / official\n",
      "\t      A174 : management/ self-employed/\n",
      "\t\t     highly qualified employee/ officer\n",
      "\n",
      "Attribute 18: (numerical)\n",
      "\t      Number of people being liable to provide maintenance for\n",
      "\n",
      "Attribute 19: (qualitative)\n",
      "\t      Telephone\n",
      "\t      A191 : none\n",
      "\t      A192 : yes, registered under the customers name\n",
      "\n",
      "Attribute 20: (qualitative)\n",
      "\t      foreign worker\n",
      "\t      A201 : yes\n",
      "\t      A202 : no\n",
      "\n"
     ]
    }
   ],
   "source": [
    "print(metadata.additional_info.variable_info)"
   ]
  },
  {
   "cell_type": "markdown",
   "id": "b0b94f05-46c4-47f3-81b0-97f7d6548ade",
   "metadata": {},
   "source": [
    "First, we will see if we need to address (remove or handle) outliers in the dataset. In order to do this, we will visualize the numerical attributes using boxplots and the categorical."
   ]
  },
  {
   "cell_type": "code",
   "execution_count": 36,
   "id": "eb2ab748-f3fc-46c6-b106-1a7a0ced30a2",
   "metadata": {},
   "outputs": [
    {
     "name": "stdout",
     "output_type": "stream",
     "text": [
      "     Attribute2  Attribute5  Attribute8  Attribute11  Attribute13  \\\n",
      "0             6        1169           4            4           67   \n",
      "1            48        5951           2            2           22   \n",
      "2            12        2096           2            3           49   \n",
      "3            42        7882           2            4           45   \n",
      "4            24        4870           3            4           53   \n",
      "..          ...         ...         ...          ...          ...   \n",
      "995          12        1736           3            4           31   \n",
      "996          30        3857           4            4           40   \n",
      "997          12         804           4            4           38   \n",
      "998          45        1845           4            4           23   \n",
      "999          45        4576           3            4           27   \n",
      "\n",
      "     Attribute16  Attribute18  \n",
      "0              2            1  \n",
      "1              1            1  \n",
      "2              1            2  \n",
      "3              1            2  \n",
      "4              2            2  \n",
      "..           ...          ...  \n",
      "995            1            1  \n",
      "996            1            1  \n",
      "997            1            1  \n",
      "998            1            1  \n",
      "999            1            1  \n",
      "\n",
      "[1000 rows x 7 columns]\n"
     ]
    }
   ],
   "source": [
    "# numerical\n",
    "numerical_attributes = variables[variables[\"type\"] == \"Integer\"][\"name\"]\n",
    "numerical_df = X[numerical_attributes]\n",
    "print(numerical_df)"
   ]
  },
  {
   "cell_type": "markdown",
   "id": "b85ffce9-1481-45cd-9e1d-90acb63501d9",
   "metadata": {},
   "source": [
    "For this project, we will be training 3 different models:\n",
    "1. Linear Model - Logistic Regression\n",
    "2. Tree-Based Model - Random Forest\n",
    "3. Neural Network Model\n",
    "\n",
    "We will preprocess our data differently based on the type of model being used. For our linear and neural network models, we will rely on one-hot encoding. For our tree-based model, we will rely on label encoding. However, in order to assess the performance of different models across different folds while performing k-fold cross validation, we need to ensure we are using the same data for each model as well as applying the appropriate encoding, normalization"
   ]
  },
  {
   "cell_type": "code",
   "execution_count": 16,
   "id": "641ea002-3c4f-46dd-80f8-d520f3ebc669",
   "metadata": {},
   "outputs": [
    {
     "name": "stdout",
     "output_type": "stream",
     "text": [
      "uci_id\n",
      "name\n",
      "repository_url\n",
      "data_url\n",
      "abstract\n",
      "area\n",
      "tasks\n",
      "characteristics\n",
      "num_instances\n",
      "num_features\n",
      "feature_types\n",
      "demographics\n",
      "target_col\n",
      "index_col\n",
      "has_missing_values\n",
      "missing_values_symbol\n",
      "year_of_dataset_creation\n",
      "last_updated\n",
      "dataset_doi\n",
      "creators\n",
      "intro_paper\n",
      "additional_info\n"
     ]
    }
   ],
   "source": [
    "for k in metadata.keys():\n",
    "    print(k)"
   ]
  },
  {
   "cell_type": "code",
   "execution_count": 17,
   "id": "6bb0b3fc-4d08-46f7-b161-512035672a5a",
   "metadata": {},
   "outputs": [
    {
     "name": "stdout",
     "output_type": "stream",
     "text": [
      "uci_id\n",
      "name\n",
      "repository_url\n",
      "data_url\n",
      "abstract\n",
      "area\n",
      "tasks\n",
      "characteristics\n",
      "num_instances\n",
      "num_features\n",
      "feature_types\n",
      "demographics\n",
      "target_col\n",
      "index_col\n",
      "has_missing_values\n",
      "missing_values_symbol\n",
      "year_of_dataset_creation\n",
      "last_updated\n",
      "dataset_doi\n",
      "creators\n",
      "intro_paper\n",
      "additional_info\n"
     ]
    }
   ],
   "source": [
    "for k in metadata.keys():\n",
    "    print(k)"
   ]
  },
  {
   "cell_type": "markdown",
   "id": "55c321cb-6b1b-4dac-9658-e9e44764170f",
   "metadata": {},
   "source": [
    "## Data Cleaning\n",
    "Cleaning: Handling missing values (imputation, removal), correcting inconsistencies (e.g., fixing typos), and ensuring the correct data types."
   ]
  },
  {
   "cell_type": "code",
   "execution_count": 34,
   "id": "32a3dfc9-603a-4ca7-b57d-72c77373351c",
   "metadata": {},
   "outputs": [
    {
     "name": "stdout",
     "output_type": "stream",
     "text": [
      "The data has no missing values. Therefore, we will not have to impute or remove these values.\n"
     ]
    }
   ],
   "source": [
    "print(f\"The data has {metadata.has_missing_values} missing values. Therefore, we will not have to impute or remove these values.\")"
   ]
  },
  {
   "cell_type": "code",
   "execution_count": 31,
   "id": "e169038d-dbe0-4f76-961e-b8302d170d90",
   "metadata": {},
   "outputs": [
    {
     "name": "stdout",
     "output_type": "stream",
     "text": [
      "uci_id\n",
      "name\n",
      "repository_url\n",
      "data_url\n",
      "abstract\n",
      "area\n",
      "tasks\n",
      "characteristics\n",
      "num_instances\n",
      "num_features\n",
      "feature_types\n",
      "demographics\n",
      "target_col\n",
      "index_col\n",
      "has_missing_values\n",
      "missing_values_symbol\n",
      "year_of_dataset_creation\n",
      "last_updated\n",
      "dataset_doi\n",
      "creators\n",
      "intro_paper\n",
      "additional_info\n"
     ]
    }
   ],
   "source": [
    "for k in metadata.keys():\n",
    "    print(k.addotopma+)"
   ]
  },
  {
   "cell_type": "code",
   "execution_count": 25,
   "id": "9d97e16b-6df9-4a08-b011-e1890ca09124",
   "metadata": {},
   "outputs": [
    {
     "name": "stdout",
     "output_type": "stream",
     "text": [
      "<class 'pandas.core.frame.DataFrame'>\n"
     ]
    }
   ],
   "source": [
    "print(type(variables))"
   ]
  },
  {
   "cell_type": "code",
   "execution_count": null,
   "id": "318e722a-c75b-4812-a48d-87e02a896b63",
   "metadata": {},
   "outputs": [],
   "source": [
    "# metadata \n",
    "# print(statlog_german_credit_data.metadata)\n",
    "  \n",
    "# variable information \n",
    "# print(statlog_german_credit_data.variables) "
   ]
  },
  {
   "cell_type": "code",
   "execution_count": 16,
   "id": "a44ce976-c307-44b0-abcb-2e3c7136f861",
   "metadata": {},
   "outputs": [
    {
     "name": "stdout",
     "output_type": "stream",
     "text": [
      "<class 'pandas.core.frame.DataFrame'>\n"
     ]
    }
   ],
   "source": [
    "print(type(y))"
   ]
  },
  {
   "cell_type": "code",
   "execution_count": 8,
   "id": "81d8a07b-a2ad-42d2-9f3c-6991c398787b",
   "metadata": {},
   "outputs": [
    {
     "name": "stdout",
     "output_type": "stream",
     "text": [
      "uci_id\n",
      "name\n",
      "repository_url\n",
      "data_url\n",
      "abstract\n",
      "area\n",
      "tasks\n",
      "characteristics\n",
      "num_instances\n",
      "num_features\n",
      "feature_types\n",
      "demographics\n",
      "target_col\n",
      "index_col\n",
      "has_missing_values\n",
      "missing_values_symbol\n",
      "year_of_dataset_creation\n",
      "last_updated\n",
      "dataset_doi\n",
      "creators\n",
      "intro_paper\n",
      "additional_info\n"
     ]
    }
   ],
   "source": [
    "for k in data.metadata.keys():\n",
    "    print(k)"
   ]
  },
  {
   "cell_type": "code",
   "execution_count": 9,
   "id": "d08dfe52-6243-4720-8ef3-564899d3b259",
   "metadata": {},
   "outputs": [
    {
     "name": "stdout",
     "output_type": "stream",
     "text": [
      "name\n",
      "role\n",
      "type\n",
      "demographic\n",
      "description\n",
      "units\n",
      "missing_values\n"
     ]
    }
   ],
   "source": [
    "for k in data.variables:\n",
    "    print(k)"
   ]
  },
  {
   "cell_type": "code",
   "execution_count": 13,
   "id": "cf67faae-bb70-4a81-b091-58c1a17e6c1b",
   "metadata": {},
   "outputs": [
    {
     "name": "stdout",
     "output_type": "stream",
     "text": [
      "0                   Status of existing checking account\n",
      "1                                              Duration\n",
      "2                                        Credit history\n",
      "3                                               Purpose\n",
      "4                                         Credit amount\n",
      "5                                 Savings account/bonds\n",
      "6                              Present employment since\n",
      "7     Installment rate in percentage of disposable i...\n",
      "8                               Personal status and sex\n",
      "9                            Other debtors / guarantors\n",
      "10                              Present residence since\n",
      "11                                             Property\n",
      "12                                                  Age\n",
      "13                              Other installment plans\n",
      "14                                              Housing\n",
      "15              Number of existing credits at this bank\n",
      "16                                                  Job\n",
      "17    Number of people being liable to provide maint...\n",
      "18                                            Telephone\n",
      "19                                       foreign worker\n",
      "20                                    1 = Good, 2 = Bad\n",
      "Name: description, dtype: object\n"
     ]
    }
   ],
   "source": [
    "print(data.variables.description)"
   ]
  },
  {
   "cell_type": "raw",
   "id": "50b06777-8d3d-46a8-be3e-2dab60b65b1d",
   "metadata": {},
   "source": []
  }
 ],
 "metadata": {
  "kernelspec": {
   "display_name": "Python 3 (ipykernel)",
   "language": "python",
   "name": "python3"
  },
  "language_info": {
   "codemirror_mode": {
    "name": "ipython",
    "version": 3
   },
   "file_extension": ".py",
   "mimetype": "text/x-python",
   "name": "python",
   "nbconvert_exporter": "python",
   "pygments_lexer": "ipython3",
   "version": "3.9.20"
  }
 },
 "nbformat": 4,
 "nbformat_minor": 5
}
